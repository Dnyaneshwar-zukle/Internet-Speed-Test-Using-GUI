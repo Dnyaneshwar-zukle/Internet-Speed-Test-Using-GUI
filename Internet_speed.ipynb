{
  "nbformat": 4,
  "nbformat_minor": 0,
  "metadata": {
    "colab": {
      "provenance": [],
      "authorship_tag": "ABX9TyOQj3dVwQX6E1/EB0D6N6K8",
      "include_colab_link": true
    },
    "kernelspec": {
      "name": "python3",
      "display_name": "Python 3"
    },
    "language_info": {
      "name": "python"
    }
  },
  "cells": [
    {
      "cell_type": "markdown",
      "metadata": {
        "id": "view-in-github",
        "colab_type": "text"
      },
      "source": [
        "<a href=\"https://colab.research.google.com/github/Dnyaneshwar-zukle/Internet-Speed-Test-Using-GUI/blob/main/Internet_speed.ipynb\" target=\"_parent\"><img src=\"https://colab.research.google.com/assets/colab-badge.svg\" alt=\"Open In Colab\"/></a>"
      ]
    },
    {
      "cell_type": "code",
      "execution_count": 8,
      "metadata": {
        "colab": {
          "base_uri": "https://localhost:8080/",
          "height": 373
        },
        "id": "L8Rp_UMFazVP",
        "outputId": "c0f20fbb-c0e7-43e1-a5f3-c361b39d88e0"
      },
      "outputs": [
        {
          "output_type": "error",
          "ename": "ModuleNotFoundError",
          "evalue": "ignored",
          "traceback": [
            "\u001b[0;31m---------------------------------------------------------------------------\u001b[0m",
            "\u001b[0;31mModuleNotFoundError\u001b[0m                       Traceback (most recent call last)",
            "\u001b[0;32m<ipython-input-8-cdb323a90df6>\u001b[0m in \u001b[0;36m<module>\u001b[0;34m\u001b[0m\n\u001b[1;32m      1\u001b[0m \u001b[0;32mfrom\u001b[0m \u001b[0mtkinter\u001b[0m \u001b[0;32mimport\u001b[0m \u001b[0;34m*\u001b[0m\u001b[0;34m\u001b[0m\u001b[0;34m\u001b[0m\u001b[0m\n\u001b[0;32m----> 2\u001b[0;31m \u001b[0;32mimport\u001b[0m \u001b[0mspeedtest\u001b[0m\u001b[0;34m\u001b[0m\u001b[0;34m\u001b[0m\u001b[0m\n\u001b[0m\u001b[1;32m      3\u001b[0m \u001b[0;34m\u001b[0m\u001b[0m\n\u001b[1;32m      4\u001b[0m \u001b[0;32mdef\u001b[0m \u001b[0mspeedckeck\u001b[0m\u001b[0;34m(\u001b[0m\u001b[0;34m)\u001b[0m\u001b[0;34m:\u001b[0m\u001b[0;34m\u001b[0m\u001b[0;34m\u001b[0m\u001b[0m\n\u001b[1;32m      5\u001b[0m     \u001b[0msp\u001b[0m \u001b[0;34m=\u001b[0m \u001b[0mspeedtest\u001b[0m\u001b[0;34m.\u001b[0m\u001b[0mSpeedtest\u001b[0m\u001b[0;34m(\u001b[0m\u001b[0;34m)\u001b[0m\u001b[0;34m\u001b[0m\u001b[0;34m\u001b[0m\u001b[0m\n",
            "\u001b[0;31mModuleNotFoundError\u001b[0m: No module named 'speedtest'",
            "",
            "\u001b[0;31m---------------------------------------------------------------------------\u001b[0;32m\nNOTE: If your import is failing due to a missing package, you can\nmanually install dependencies using either !pip or !apt.\n\nTo view examples of installing some common dependencies, click the\n\"Open Examples\" button below.\n\u001b[0;31m---------------------------------------------------------------------------\u001b[0m\n"
          ],
          "errorDetails": {
            "actions": [
              {
                "action": "open_url",
                "actionText": "Open Examples",
                "url": "/notebooks/snippets/importing_libraries.ipynb"
              }
            ]
          }
        }
      ],
      "source": [
        "from tkinter import *  \n",
        "import speedtest\n",
        "\n",
        "def speedckeck():\n",
        "    sp = speedtest.Speedtest()\n",
        "    sp.get_servers()\n",
        "    down = str(round(sp.download()/(10**3),3))+\"Mbps\"\n",
        "    up = str(round(sp.upload()/(10**6),2))+\"Mbps\"\n",
        "    lab_down.config(text=down) \n",
        "    lab_up.config(text=up)\n",
        "    \n",
        "sp = Tk()\n",
        "sp.title(\" Internet Speed Test \")\n",
        "sp.geometry(\"500x700\")\n",
        "sp.config(bg=\"blue\")\n",
        "\n",
        "lab = Label(sp,text=\"Internet Speed Test \", font=(\"Time New Roman\",30,\"bold\"),bg=\"blue\",fg=\"white\")\n",
        "lab.place(x=60,y=40,height=50,width=380)\n",
        "\n",
        "lab = Label(sp,text=\"Download Speed \", font=(\"Time New Roman\",30,\"bold\"))\n",
        "lab.place(x=60,y=130,height=50,width=380)\n",
        "\n",
        "lab_down = Label(sp,text=\"00\", font=(\"Time New Roman\",30,\"bold\"))\n",
        "lab_down.place(x=60,y=200,height=50,width=380)\n",
        "\n",
        "lab = Label(sp,text=\"Upload Speed\", font=(\"Time New Roman\",30,\"bold\"))\n",
        "lab.place(x=60,y=290,height=50,width=380)\n",
        "\n",
        "lab_up = Label(sp,text=\"00\", font=(\"Time New Roman\",30,\"bold\"))\n",
        "lab_up.place(x=60,y=360,height=50,width=380)\n",
        "\n",
        "Button = Button(sp,text=\"Check Speed\",font=(\"Time New Roman\",30,\"bold\"),relief=RAISED,bg=\"red\",cursor=\"\",command=speedckeck)\n",
        "Button .place(x=60,y=460,height=50,width=380)\n",
        "\n",
        "sp.mainloop()"
      ]
    }
  ]
}